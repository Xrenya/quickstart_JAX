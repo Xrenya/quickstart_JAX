{
  "nbformat": 4,
  "nbformat_minor": 0,
  "metadata": {
    "colab": {
      "provenance": []
    },
    "kernelspec": {
      "name": "python3",
      "display_name": "Python 3"
    },
    "language_info": {
      "name": "python"
    }
  },
  "cells": [
    {
      "cell_type": "markdown",
      "source": [
        "# `nnx` using `vmap` to create multiple models\n",
        "\n",
        "In case of `linen`, you can you use the following initialaztion of several instaces:\n",
        "```python\n",
        "def make(rng):\n",
        "  m = my_module.init(rng, dummy_input)\n",
        "  return ...\n",
        "\n",
        "rngs = jax.random.split(jax.random.PRNGKey(0), num=5)\n",
        "models = jax.vmap(make)(rngs)\n",
        "```\n",
        "\n",
        "You can use nnx.split_rngs to automatically split the Rngs before going into nnx.vmap.\n",
        "\n",
        "```python\n",
        "@nnx.split_rngs(splits=5)\n",
        "@nnx.vmap\n",
        "def make_model(rngs):\n",
        "  return nnx.Linear(2, 3, rngs=rngs)\n",
        "\n",
        "model = make_model(nnx.Rngs(0))\n",
        "\n",
        "print(model)\n",
        "```"
      ],
      "metadata": {
        "id": "BF55t0JGWTAO"
      }
    },
    {
      "cell_type": "code",
      "source": [
        "import jax\n",
        "from flax import nnx\n",
        "import jax.numpy as jnp"
      ],
      "metadata": {
        "id": "WhChfVBFbWj2"
      },
      "execution_count": 44,
      "outputs": []
    },
    {
      "cell_type": "code",
      "execution_count": 45,
      "metadata": {
        "colab": {
          "base_uri": "https://localhost:8080/"
        },
        "id": "bskBS5h8VrWS",
        "outputId": "604db250-e65c-4d6b-b7d2-278ce0133553"
      },
      "outputs": [
        {
          "output_type": "stream",
          "name": "stdout",
          "text": [
            "\u001b[38;2;79;201;177mLinear\u001b[0m\u001b[38;2;255;213;3m(\u001b[0m\u001b[38;2;105;105;105m # Param: 45 (180 B)\u001b[0m\n",
            "  \u001b[38;2;156;220;254mbias\u001b[0m\u001b[38;2;212;212;212m=\u001b[0m\u001b[38;2;79;201;177mParam\u001b[0m\u001b[38;2;255;213;3m(\u001b[0m\u001b[38;2;105;105;105m # 15 (60 B)\u001b[0m\n",
            "    \u001b[38;2;156;220;254mvalue\u001b[0m\u001b[38;2;212;212;212m=\u001b[0m\u001b[38;2;79;201;177mArray\u001b[0m\u001b[38;2;255;213;3m(\u001b[0m\u001b[38;2;156;220;254mshape\u001b[0m\u001b[38;2;212;212;212m=\u001b[0m\u001b[38;2;255;213;3m(\u001b[0m\u001b[38;2;182;207;169m5\u001b[0m, \u001b[38;2;182;207;169m3\u001b[0m\u001b[38;2;255;213;3m)\u001b[0m, \u001b[38;2;156;220;254mdtype\u001b[0m\u001b[38;2;212;212;212m=\u001b[0mdtype('float32')\u001b[38;2;255;213;3m)\u001b[0m\n",
            "  \u001b[38;2;255;213;3m)\u001b[0m,\n",
            "  \u001b[38;2;156;220;254mbias_init\u001b[0m\u001b[38;2;212;212;212m=\u001b[0m<function zeros at 0x7b4862d41080>,\n",
            "  \u001b[38;2;156;220;254mdot_general\u001b[0m\u001b[38;2;212;212;212m=\u001b[0m<function dot_general at 0x7b486374cd60>,\n",
            "  \u001b[38;2;156;220;254mdtype\u001b[0m\u001b[38;2;212;212;212m=\u001b[0m\u001b[38;2;86;156;214mNone\u001b[0m,\n",
            "  \u001b[38;2;156;220;254min_features\u001b[0m\u001b[38;2;212;212;212m=\u001b[0m\u001b[38;2;182;207;169m2\u001b[0m,\n",
            "  \u001b[38;2;156;220;254mkernel\u001b[0m\u001b[38;2;212;212;212m=\u001b[0m\u001b[38;2;79;201;177mParam\u001b[0m\u001b[38;2;255;213;3m(\u001b[0m\u001b[38;2;105;105;105m # 30 (120 B)\u001b[0m\n",
            "    \u001b[38;2;156;220;254mvalue\u001b[0m\u001b[38;2;212;212;212m=\u001b[0m\u001b[38;2;79;201;177mArray\u001b[0m\u001b[38;2;255;213;3m(\u001b[0m\u001b[38;2;156;220;254mshape\u001b[0m\u001b[38;2;212;212;212m=\u001b[0m\u001b[38;2;255;213;3m(\u001b[0m\u001b[38;2;182;207;169m5\u001b[0m, \u001b[38;2;182;207;169m2\u001b[0m, \u001b[38;2;182;207;169m3\u001b[0m\u001b[38;2;255;213;3m)\u001b[0m, \u001b[38;2;156;220;254mdtype\u001b[0m\u001b[38;2;212;212;212m=\u001b[0mdtype('float32')\u001b[38;2;255;213;3m)\u001b[0m\n",
            "  \u001b[38;2;255;213;3m)\u001b[0m,\n",
            "  \u001b[38;2;156;220;254mkernel_init\u001b[0m\u001b[38;2;212;212;212m=\u001b[0m<function variance_scaling.<locals>.init at 0x7b48620c09a0>,\n",
            "  \u001b[38;2;156;220;254mout_features\u001b[0m\u001b[38;2;212;212;212m=\u001b[0m\u001b[38;2;182;207;169m3\u001b[0m,\n",
            "  \u001b[38;2;156;220;254mparam_dtype\u001b[0m\u001b[38;2;212;212;212m=\u001b[0m\u001b[38;2;79;201;177mfloat32\u001b[0m,\n",
            "  \u001b[38;2;156;220;254mprecision\u001b[0m\u001b[38;2;212;212;212m=\u001b[0m\u001b[38;2;86;156;214mNone\u001b[0m,\n",
            "  \u001b[38;2;156;220;254mpromote_dtype\u001b[0m\u001b[38;2;212;212;212m=\u001b[0m<function promote_dtype at 0x7b486206fd80>,\n",
            "  \u001b[38;2;156;220;254muse_bias\u001b[0m\u001b[38;2;212;212;212m=\u001b[0m\u001b[38;2;86;156;214mTrue\u001b[0m\n",
            "\u001b[38;2;255;213;3m)\u001b[0m\n"
          ]
        }
      ],
      "source": [
        "@nnx.split_rngs(splits=5)\n",
        "@nnx.vmap\n",
        "def make_model(rngs):\n",
        "  return nnx.Linear(2, 3, rngs=rngs)\n",
        "\n",
        "model = make_model(nnx.Rngs(0))\n",
        "\n",
        "print(model)"
      ]
    },
    {
      "cell_type": "code",
      "source": [
        "print(\"Model parameter shapes:\")\n",
        "print(f\"Kernel shape: {model.kernel.value.shape}\")\n",
        "print(f\"Bias shape: {model.bias.value.shape}\\n\")"
      ],
      "metadata": {
        "colab": {
          "base_uri": "https://localhost:8080/"
        },
        "id": "3PCDSHGrKpvm",
        "outputId": "a8840f6c-ce7d-4e4c-c3fe-4760bd7b4827"
      },
      "execution_count": 47,
      "outputs": [
        {
          "output_type": "stream",
          "name": "stdout",
          "text": [
            "Model parameter shapes:\n",
            "Kernel shape: (5, 2, 3)\n",
            "Bias shape: (5, 3)\n",
            "\n"
          ]
        }
      ]
    },
    {
      "cell_type": "code",
      "source": [
        "num_devices = 1\n",
        "per_device_batch = 4\n",
        "num_heads = 2\n",
        "din = 16\n",
        "dout = 32\n",
        "\n",
        "@nnx.split_rngs(splits=num_devices)\n",
        "@nnx.pmap(in_axes=0, out_axes=0)  # device dim\n",
        "@nnx.split_rngs(splits=per_device_batch)\n",
        "@nnx.vmap(in_axes=0, out_axes=0)  # batch dim\n",
        "@nnx.split_rngs(splits=num_heads)\n",
        "@nnx.vmap(in_axes=0, out_axes=1)  # head dim\n",
        "def make_model(rngs):\n",
        "  return nnx.Linear(din, dout, rngs=rngs)\n",
        "\n",
        "model = make_model(nnx.Rngs(0))\n",
        "print(model)"
      ],
      "metadata": {
        "colab": {
          "base_uri": "https://localhost:8080/"
        },
        "id": "jQwQMX6jbSql",
        "outputId": "cc6e02d5-d460-4606-f74a-b1cdbf159cff"
      },
      "execution_count": 56,
      "outputs": [
        {
          "output_type": "stream",
          "name": "stdout",
          "text": [
            "\u001b[38;2;79;201;177mLinear\u001b[0m\u001b[38;2;255;213;3m(\u001b[0m\u001b[38;2;105;105;105m # Param: 4,352 (17.4 KB)\u001b[0m\n",
            "  \u001b[38;2;156;220;254mbias\u001b[0m\u001b[38;2;212;212;212m=\u001b[0m\u001b[38;2;79;201;177mParam\u001b[0m\u001b[38;2;255;213;3m(\u001b[0m\u001b[38;2;105;105;105m # 256 (1.0 KB)\u001b[0m\n",
            "    \u001b[38;2;156;220;254mvalue\u001b[0m\u001b[38;2;212;212;212m=\u001b[0m\u001b[38;2;79;201;177mArray\u001b[0m\u001b[38;2;255;213;3m(\u001b[0m\u001b[38;2;156;220;254mshape\u001b[0m\u001b[38;2;212;212;212m=\u001b[0m\u001b[38;2;255;213;3m(\u001b[0m\u001b[38;2;182;207;169m1\u001b[0m, \u001b[38;2;182;207;169m4\u001b[0m, \u001b[38;2;182;207;169m32\u001b[0m, \u001b[38;2;182;207;169m2\u001b[0m\u001b[38;2;255;213;3m)\u001b[0m, \u001b[38;2;156;220;254mdtype\u001b[0m\u001b[38;2;212;212;212m=\u001b[0mdtype('float32')\u001b[38;2;255;213;3m)\u001b[0m\n",
            "  \u001b[38;2;255;213;3m)\u001b[0m,\n",
            "  \u001b[38;2;156;220;254mbias_init\u001b[0m\u001b[38;2;212;212;212m=\u001b[0m<function zeros at 0x7b4862d41080>,\n",
            "  \u001b[38;2;156;220;254mdot_general\u001b[0m\u001b[38;2;212;212;212m=\u001b[0m<function dot_general at 0x7b486374cd60>,\n",
            "  \u001b[38;2;156;220;254mdtype\u001b[0m\u001b[38;2;212;212;212m=\u001b[0m\u001b[38;2;86;156;214mNone\u001b[0m,\n",
            "  \u001b[38;2;156;220;254min_features\u001b[0m\u001b[38;2;212;212;212m=\u001b[0m\u001b[38;2;182;207;169m16\u001b[0m,\n",
            "  \u001b[38;2;156;220;254mkernel\u001b[0m\u001b[38;2;212;212;212m=\u001b[0m\u001b[38;2;79;201;177mParam\u001b[0m\u001b[38;2;255;213;3m(\u001b[0m\u001b[38;2;105;105;105m # 4,096 (16.4 KB)\u001b[0m\n",
            "    \u001b[38;2;156;220;254mvalue\u001b[0m\u001b[38;2;212;212;212m=\u001b[0m\u001b[38;2;79;201;177mArray\u001b[0m\u001b[38;2;255;213;3m(\u001b[0m\u001b[38;2;156;220;254mshape\u001b[0m\u001b[38;2;212;212;212m=\u001b[0m\u001b[38;2;255;213;3m(\u001b[0m\u001b[38;2;182;207;169m1\u001b[0m, \u001b[38;2;182;207;169m4\u001b[0m, \u001b[38;2;182;207;169m16\u001b[0m, \u001b[38;2;182;207;169m2\u001b[0m, \u001b[38;2;182;207;169m32\u001b[0m\u001b[38;2;255;213;3m)\u001b[0m, \u001b[38;2;156;220;254mdtype\u001b[0m\u001b[38;2;212;212;212m=\u001b[0mdtype('float32')\u001b[38;2;255;213;3m)\u001b[0m\n",
            "  \u001b[38;2;255;213;3m)\u001b[0m,\n",
            "  \u001b[38;2;156;220;254mkernel_init\u001b[0m\u001b[38;2;212;212;212m=\u001b[0m<function variance_scaling.<locals>.init at 0x7b48620c09a0>,\n",
            "  \u001b[38;2;156;220;254mout_features\u001b[0m\u001b[38;2;212;212;212m=\u001b[0m\u001b[38;2;182;207;169m32\u001b[0m,\n",
            "  \u001b[38;2;156;220;254mparam_dtype\u001b[0m\u001b[38;2;212;212;212m=\u001b[0m\u001b[38;2;79;201;177mfloat32\u001b[0m,\n",
            "  \u001b[38;2;156;220;254mprecision\u001b[0m\u001b[38;2;212;212;212m=\u001b[0m\u001b[38;2;86;156;214mNone\u001b[0m,\n",
            "  \u001b[38;2;156;220;254mpromote_dtype\u001b[0m\u001b[38;2;212;212;212m=\u001b[0m<function promote_dtype at 0x7b486206fd80>,\n",
            "  \u001b[38;2;156;220;254muse_bias\u001b[0m\u001b[38;2;212;212;212m=\u001b[0m\u001b[38;2;86;156;214mTrue\u001b[0m\n",
            "\u001b[38;2;255;213;3m)\u001b[0m\n"
          ]
        }
      ]
    },
    {
      "cell_type": "code",
      "source": [
        "print(\"Model parameter shapes:\")\n",
        "print(f\"Kernel shape: {model.kernel.value.shape}\")\n",
        "print(f\"Bias shape: {model.bias.value.shape}\\n\")"
      ],
      "metadata": {
        "colab": {
          "base_uri": "https://localhost:8080/"
        },
        "id": "VDz3HlqxQEWu",
        "outputId": "bfc4932a-68db-44b4-8f9c-facd1dfc558a"
      },
      "execution_count": 57,
      "outputs": [
        {
          "output_type": "stream",
          "name": "stdout",
          "text": [
            "Model parameter shapes:\n",
            "Kernel shape: (1, 4, 16, 2, 32)\n",
            "Bias shape: (1, 4, 32, 2)\n",
            "\n"
          ]
        }
      ]
    },
    {
      "cell_type": "markdown",
      "source": [
        "Notice vectorized number of paramers for two model above 45 vs 4,352 parameters. It is important what do you want exactly to vectorize. Maybe just shared parameters for each GPU."
      ],
      "metadata": {
        "id": "ik0XsrChQGrc"
      }
    },
    {
      "cell_type": "code",
      "source": [
        "# Configuration\n",
        "batch = 2\n",
        "num_heads = 3\n",
        "head_dim = 4  # input dimension per head\n",
        "dout = 5      # output dimension\n",
        "seq_len = 6\n",
        "\n",
        "# Initialize vectorized model\n",
        "@nnx.split_rngs(splits=batch)\n",
        "@nnx.vmap(in_axes=0)  # batch dimension\n",
        "@nnx.split_rngs(splits=num_heads)\n",
        "@nnx.vmap(in_axes=0)  # head dimension\n",
        "def make_model(rngs):\n",
        "    # Each Linear layer processes head_dim -> dout\n",
        "    return nnx.Linear(head_dim, dout, rngs=rngs)\n",
        "\n",
        "model = make_model(nnx.Rngs(0))\n",
        "\n",
        "# Create sample input (batch, num_heads, seq_len, head_dim)\n",
        "x = jnp.ones((batch, num_heads, seq_len, head_dim))\n",
        "\n",
        "# Forward pass with vmap\n",
        "def forward(model, x):\n",
        "    @nnx.vmap(in_axes=(0, 0))  # batch dimension\n",
        "    @nnx.vmap(in_axes=(0, 0))  # head dimension\n",
        "    def forward_single(model, x):\n",
        "        # x shape: (seq_len, head_dim)\n",
        "        # model.kernel shape: (head_dim, dout)\n",
        "        return model(x)\n",
        "\n",
        "    return forward_single(model, x)\n",
        "\n",
        "# Run and print shapes\n",
        "print(\"Model parameter shapes:\")\n",
        "print(f\"Kernel shape: {model.kernel.value.shape}\")  # Should be (batch, num_heads, head_dim, dout)\n",
        "print(f\"Bias shape: {model.bias.value.shape}\\n\")   # Should be (batch, num_heads, dout)\n",
        "\n",
        "print(\"Input/Output shapes:\")\n",
        "print(f\"Input shape: {x.shape}\")\n",
        "output = forward(model, x)\n",
        "print(f\"Output shape: {output.shape}\")"
      ],
      "metadata": {
        "colab": {
          "base_uri": "https://localhost:8080/"
        },
        "id": "MA7IDNuZxXz2",
        "outputId": "22f406d1-edf2-412b-bc65-293eed45eb3d"
      },
      "execution_count": 50,
      "outputs": [
        {
          "output_type": "stream",
          "name": "stdout",
          "text": [
            "Model parameter shapes:\n",
            "Kernel shape: (2, 3, 4, 5)\n",
            "Bias shape: (2, 3, 5)\n",
            "\n",
            "Input/Output shapes:\n",
            "Input shape: (2, 3, 6, 4)\n",
            "Output shape: (2, 3, 6, 5)\n"
          ]
        }
      ]
    },
    {
      "cell_type": "code",
      "source": [],
      "metadata": {
        "id": "hJ3bBNMGK3nu"
      },
      "execution_count": null,
      "outputs": []
    }
  ]
}