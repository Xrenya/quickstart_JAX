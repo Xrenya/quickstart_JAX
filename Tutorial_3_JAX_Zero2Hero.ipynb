{
  "nbformat": 4,
  "nbformat_minor": 0,
  "metadata": {
    "colab": {
      "provenance": []
    },
    "kernelspec": {
      "name": "python3",
      "display_name": "Python 3"
    },
    "language_info": {
      "name": "python"
    }
  },
  "cells": [
    {
      "cell_type": "markdown",
      "source": [
        "# MLP training on MNIST"
      ],
      "metadata": {
        "id": "hXaZJDJI81Lk"
      }
    },
    {
      "cell_type": "code",
      "execution_count": 10,
      "metadata": {
        "id": "IasG34kk8xY7"
      },
      "outputs": [],
      "source": [
        "import numpy as np\n",
        "import jax.numpy as jnp\n",
        "from jax.scipy.special import logsumexp\n",
        "import jax\n",
        "\n",
        "from torchvision.datasets import MNIST\n",
        "from torch.utils.data import DataLoader\n",
        "import matplotlib.pyplot as plt"
      ]
    },
    {
      "cell_type": "code",
      "source": [
        "seed = 0\n",
        "mnist_image_size = (28, 28)\n",
        "\n",
        "def init_mlp(layer_width, parent_key, scale=0.01):\n",
        "    params = []\n",
        "    keys = jax.random.split(parent_key, num=len(layer_width) - 1)\n",
        "\n",
        "    for in_width, out_width, key in zip(layer_width[:-1], layer_width[1:], keys):\n",
        "        weight_key, bias_key = jax.random.split(key)\n",
        "        params.append([\n",
        "            scale * jax.random.normal(weight_key, shape=(out_width, in_width)),\n",
        "            scale * jax.random.normal(bias_key, shape=(out_width,)),\n",
        "        ])\n",
        "\n",
        "    return params\n",
        "\n",
        "key = jax.random.PRNGKey(seed)\n",
        "mlp_params = init_mlp([784, 512, 256, 10], key)\n",
        "print(jax.tree.map(lambda x: x.shape, mlp_params))"
      ],
      "metadata": {
        "colab": {
          "base_uri": "https://localhost:8080/"
        },
        "id": "AqaTwkAf95lL",
        "outputId": "b32b47ef-972f-4e65-f4e0-8431ce510182"
      },
      "execution_count": 2,
      "outputs": [
        {
          "output_type": "stream",
          "name": "stdout",
          "text": [
            "[[(512, 784), (512,)], [(256, 512), (256,)], [(10, 256), (10,)]]\n"
          ]
        }
      ]
    },
    {
      "cell_type": "code",
      "source": [
        "def mlp_predict(params, x):\n",
        "    hidden_layers = params[:-1]\n",
        "\n",
        "    activation = x\n",
        "    for w, b in hidden_layers:\n",
        "        activation = jax.nn.relu(jnp.dot(w, activation) + b)\n",
        "\n",
        "    w_last, b_last = params[-1]\n",
        "    logits = jnp.dot(w_last, activation) + b_last\n",
        "\n",
        "    # log(exp(o1)) - log(sum(exp(o1), exp(o2), ..., exp(o10)))\n",
        "    # log( exp(o1) / sum(...) )\n",
        "    return logits - logsumexp(logits)  # stable calc\n",
        "\n",
        "\n",
        "# test single pass\n",
        "dummy_image = np.random.randn(np.prod(mnist_image_size))\n",
        "print(dummy_image.shape)\n",
        "\n",
        "prediction = mlp_predict(mlp_params, dummy_image)\n",
        "print(prediction.shape)\n",
        "\n",
        "# test batched function\n",
        "batched_mlp_predict = jax.vmap(mlp_predict, in_axes=(None, 0))\n",
        "\n",
        "dummy_image_batched = np.random.randn(16, np.prod(mnist_image_size))\n",
        "print(dummy_image_batched.shape)\n",
        "predictions_batched = batched_mlp_predict(mlp_params, dummy_image_batched)\n",
        "print(predictions_batched.shape)"
      ],
      "metadata": {
        "colab": {
          "base_uri": "https://localhost:8080/"
        },
        "id": "UJyHGWWuAYAC",
        "outputId": "5d6b7ebd-9609-4d02-930b-1643eae80b1c"
      },
      "execution_count": 4,
      "outputs": [
        {
          "output_type": "stream",
          "name": "stdout",
          "text": [
            "(784,)\n",
            "(512, 784) (784,)\n",
            "(256, 512) (512,)\n",
            "(10,)\n",
            "(16, 784)\n",
            "(512, 784) (784,)\n",
            "(256, 512) (512,)\n",
            "(16, 10)\n"
          ]
        }
      ]
    },
    {
      "cell_type": "code",
      "source": [
        "def custom_transform(x):\n",
        "    return np.ravel(np.array(x, dtype=np.float32))\n",
        "\n",
        "def custom_collate_fn(batch):\n",
        "    transposed_data = list(zip(*batch))\n",
        "\n",
        "    labels = np.array(transposed_data[1])\n",
        "    images = np.array(transposed_data[0])\n",
        "\n",
        "    return images, labels\n",
        "\n",
        "batch_size = 128\n",
        "train_dataset = MNIST(root='train_mnist', train=True, download=True, transform=custom_transform)\n",
        "test_dataset = MNIST(root='test_mnist', train=True, download=True, transform=custom_transform)\n",
        "\n",
        "train_loader = DataLoader(train_dataset, batch_size=batch_size, shuffle=True, collate_fn=custom_collate_fn, drop_last=True)\n",
        "test_loader = DataLoader(test_dataset, batch_size=batch_size, shuffle=True, collate_fn=custom_collate_fn, drop_last=True)\n",
        "\n",
        "# test\n",
        "batch_data = next(iter(train_loader))\n",
        "images = batch_data[0]\n",
        "labels = batch_data[1]\n",
        "print(images.shape, images[0].dtype, labels.shape, labels[0].dtype)\n",
        "\n",
        "# optimization - laoding the whole dataset into memory\n",
        "train_images = jnp.array(train_dataset.data).reshape(len(train_dataset), -1)\n",
        "train_labels = jnp.array(train_dataset.targets)\n",
        "\n",
        "test_images = jnp.array(test_dataset.data).reshape(len(test_dataset), -1)\n",
        "test_labels = jnp.array(test_dataset.targets)"
      ],
      "metadata": {
        "colab": {
          "base_uri": "https://localhost:8080/"
        },
        "id": "v0yY8OkDAuqE",
        "outputId": "8e0c6782-76c3-4690-c155-ec35acc2c7c9"
      },
      "execution_count": 6,
      "outputs": [
        {
          "output_type": "stream",
          "name": "stdout",
          "text": [
            "(128, 784) float32 (128,) int64\n"
          ]
        }
      ]
    },
    {
      "cell_type": "code",
      "source": [
        "num_epochs = 5\n",
        "\n",
        "def loss_fn(params, images, labels):\n",
        "    predictions = batched_mlp_predict(params, images)\n",
        "    return -jnp.mean(predictions * labels)\n",
        "\n",
        "def accuracy(params, dataset_images, dataset_labels):\n",
        "    predictions = jnp.argmax(batched_mlp_predict(params, images), axis=1)\n",
        "    return jnp.mean(predictions == dataset_labels)\n",
        "\n",
        "@jax.jit\n",
        "def update(params, images, labels, lr=0.01):\n",
        "    loss, grad = jax.value_and_grad(loss_fn)(params, images, labels)\n",
        "    return loss, jax.tree.map(lambda p, g: p - lr * g, params, grad)\n",
        "\n",
        "mlp_params = init_mlp([np.prod(mnist_image_size), 512, 256, len(MNIST.classes)], key)\n",
        "\n",
        "for epoch in range(num_epochs):\n",
        "    for idx, (images, labels) in enumerate(train_loader):\n",
        "        gt = jax.nn.one_hot(labels, len(MNIST.classes))\n",
        "\n",
        "        loss, mlp_params = update(mlp_params, images, gt)\n",
        "        if idx % 50 == 0:\n",
        "            print(loss)\n",
        "\n",
        "    print(f'Epoch {epoch}, train acc = {accuracy(mlp_params, train_images, labels)} test acc = {accuracy(mlp_params, test_images, labels)}')\n"
      ],
      "metadata": {
        "colab": {
          "base_uri": "https://localhost:8080/"
        },
        "id": "48Rg7ZL-hD9-",
        "outputId": "cbc7dea6-5b4f-402b-89eb-f0da1d411f9b"
      },
      "execution_count": 9,
      "outputs": [
        {
          "output_type": "stream",
          "name": "stdout",
          "text": [
            "(512, 784) (784,)\n",
            "(256, 512) (512,)\n",
            "0.25124627\n",
            "0.08253209\n",
            "0.058283724\n",
            "0.053757902\n",
            "0.038959973\n",
            "0.034792993\n",
            "0.033246737\n",
            "0.02640993\n",
            "0.03136323\n",
            "0.023651836\n",
            "(512, 784) (784,)\n",
            "(256, 512) (512,)\n",
            "(512, 784) (784,)\n",
            "(256, 512) (512,)\n",
            "Epoch 0, train acc = 0.9453125 test acc = 0.9453125\n",
            "0.03262115\n",
            "0.038231846\n",
            "0.024309203\n",
            "0.034453593\n",
            "0.029602787\n",
            "0.037227254\n",
            "0.035445165\n",
            "0.047348883\n",
            "0.0373987\n",
            "0.029464552\n",
            "(512, 784) (784,)\n",
            "(256, 512) (512,)\n",
            "(512, 784) (784,)\n",
            "(256, 512) (512,)\n",
            "Epoch 1, train acc = 0.953125 test acc = 0.953125\n",
            "0.021998188\n",
            "0.022621548\n",
            "0.030102504\n",
            "0.015884668\n",
            "0.015805302\n",
            "0.013571425\n",
            "0.027136475\n",
            "0.027766306\n",
            "0.014555055\n",
            "0.015682915\n",
            "(512, 784) (784,)\n",
            "(256, 512) (512,)\n",
            "(512, 784) (784,)\n",
            "(256, 512) (512,)\n",
            "Epoch 2, train acc = 0.953125 test acc = 0.953125\n",
            "0.017151086\n",
            "0.024883708\n",
            "0.01859855\n",
            "0.033793043\n",
            "0.014777394\n",
            "0.022537906\n",
            "0.013422023\n",
            "0.021220526\n",
            "0.0145703675\n",
            "0.010210104\n",
            "(512, 784) (784,)\n",
            "(256, 512) (512,)\n",
            "(512, 784) (784,)\n",
            "(256, 512) (512,)\n",
            "Epoch 3, train acc = 0.9453125 test acc = 0.9453125\n",
            "0.024054995\n",
            "0.021002216\n",
            "0.009896737\n",
            "0.013816322\n",
            "0.015340348\n",
            "0.012041002\n",
            "0.015846265\n",
            "0.008522025\n",
            "0.015087971\n",
            "0.014907569\n",
            "(512, 784) (784,)\n",
            "(256, 512) (512,)\n",
            "(512, 784) (784,)\n",
            "(256, 512) (512,)\n",
            "Epoch 4, train acc = 0.953125 test acc = 0.953125\n"
          ]
        }
      ]
    },
    {
      "cell_type": "code",
      "source": [
        "images, labels = next(iter(test_loader))\n",
        "image = images[0].reshape(mnist_image_size)\n",
        "label = labels[0]\n",
        "\n",
        "print(image.shape)\n",
        "\n",
        "pred = jnp.argmax(mlp_predict(mlp_params, np.ravel(image)))\n",
        "print(f\"Prediction: {pred}\")\n",
        "print(f\"GT: {label}\")\n",
        "\n",
        "plt.imshow(image, cmap=\"gray\")\n",
        "plt.show()"
      ],
      "metadata": {
        "colab": {
          "base_uri": "https://localhost:8080/",
          "height": 517
        },
        "id": "Pu6O1xJtlphN",
        "outputId": "66165507-3c95-4431-86fe-03697d211b38"
      },
      "execution_count": 15,
      "outputs": [
        {
          "output_type": "stream",
          "name": "stdout",
          "text": [
            "(28, 28)\n",
            "(512, 784) (784,)\n",
            "(256, 512) (512,)\n",
            "Prediction: 0\n",
            "GT: 0\n"
          ]
        },
        {
          "output_type": "display_data",
          "data": {
            "text/plain": [
              "<Figure size 640x480 with 1 Axes>"
            ],
            "image/png": "[encoded data removed]"
          },
          "metadata": {}
        }
      ]
    },
    {
      "cell_type": "code",
      "source": [
        "w = mlp_params[0][0]\n",
        "print(w.shape)\n",
        "\n",
        "w_single = w[500, :].reshape(mnist_image_size)\n",
        "print(w_single.shape)\n",
        "plt.imshow(w_single)\n",
        "plt.show()"
      ],
      "metadata": {
        "colab": {
          "base_uri": "https://localhost:8080/",
          "height": 465
        },
        "id": "n2X3dNDMmQ8Y",
        "outputId": "3c366136-e216-45e5-8d21-83b1224aa50a"
      },
      "execution_count": 16,
      "outputs": [
        {
          "output_type": "stream",
          "name": "stdout",
          "text": [
            "(512, 784)\n",
            "(28, 28)\n"
          ]
        },
        {
          "output_type": "display_data",
          "data": {
            "text/plain": [
              "<Figure size 640x480 with 1 Axes>"
            ],
            "image/png": "[encoded data removed]"
          },
          "metadata": {}
        }
      ]
    },
    {
      "cell_type": "code",
      "source": [
        "from sklearn.manifold import TSNE\n",
        "\n",
        "def fetch_activations(params, x):\n",
        "    hidden_layers = params[:-1]\n",
        "    activation = x\n",
        "    for w, b in hidden_layers:\n",
        "        activation = jax.nn.relu(jnp.dot(w, activation) + b)\n",
        "\n",
        "    return activation\n",
        "\n",
        "\n",
        "batched_fetch_activation = jax.vmap(fetch_activations, in_axes=(None, 0))\n",
        "images, labels = next(iter(test_loader))\n",
        "\n",
        "batch_activation = batched_fetch_activation(mlp_params, images)\n",
        "print(batch_activation.shape)  # (128, 2)\n",
        "\n",
        "tnse_embeddings = TSNE(n_components=2, perplexity=30).fit_transform(batch_activation)\n",
        "label_to_color_map = {0: \"red\", 1: \"blue\", 2: \"green\", 3: \"orange\", 4: \"yellow\", 5: \"pink\", 6: \"gray\"}\n",
        "\n",
        "for cls in range(7):\n",
        "    plt.scatter(tnse_embeddings[labels == cls, 0], tnse_embeddings[labels == cls, 1], s=20, color=label_to_color_map[cls])\n",
        "plt.show()"
      ],
      "metadata": {
        "colab": {
          "base_uri": "https://localhost:8080/",
          "height": 447
        },
        "id": "JNK3Qgfumq3y",
        "outputId": "88b34e1d-6073-4fdf-f3ed-63c6a2d6165c"
      },
      "execution_count": 26,
      "outputs": [
        {
          "output_type": "stream",
          "name": "stdout",
          "text": [
            "(128, 256)\n"
          ]
        },
        {
          "output_type": "display_data",
          "data": {
            "text/plain": [
              "<Figure size 640x480 with 1 Axes>"
            ],
            "image/png": "[encoded data removed]"
          },
          "metadata": {}
        }
      ]
    },
    {
      "cell_type": "markdown",
      "source": [
        "🧠 What Are \"Dead Neurons\"?\n",
        "\n",
        "Dead neurons are neurons that get \"stuck\" at zero activation (due to ReLU) and never fire for any input. This typically happens when:\n",
        "\n",
        "The weights and biases cause the pre-activation (before ReLU) to always be negative\n",
        "The neuron outputs ReLU(negative_value) = 0 for all inputs\n",
        "This is a serious problem because dead neurons:\n",
        "\n",
        "- Don't contribute to learning (zero gradients)\n",
        "- Waste model capacity\n",
        "- Can indicate poor initialization or learning rate issues"
      ],
      "metadata": {
        "id": "z8tLuFlFrkmS"
      }
    },
    {
      "cell_type": "code",
      "source": [
        "# Dead neurons\n",
        "\n",
        "def fetch_activations2(params, x):\n",
        "    hidden_layers = params[:-1]\n",
        "    collector = []\n",
        "\n",
        "    activation = x\n",
        "    for w, b in hidden_layers:\n",
        "        activation = jax.nn.relu(jnp.dot(w, activation) + b)\n",
        "        collector.append(activation)\n",
        "\n",
        "    return collector\n",
        "\n",
        "batched_fetch_activations2 = jax.vmap(fetch_activations2, in_axes=(None, 0))\n",
        "batch_activations = batched_fetch_activations2(mlp_params, images)\n",
        "\n",
        "dead_neurons = [np.ones(act.shape[1:]) for act in batch_activations]\n",
        "\n",
        "\n",
        "for layer_id, activations in enumerate(batch_activations):\n",
        "    dead_neurons[layer_id] = np.logical_and(\n",
        "        dead_neurons[layer_id],\n",
        "        (activations == 0).all(axis=0)\n",
        "    )"
      ],
      "metadata": {
        "id": "lsKZOWckoDJG"
      },
      "execution_count": 28,
      "outputs": []
    },
    {
      "cell_type": "code",
      "source": [
        "# np.sum() applied to a boolean array counts the number of True elements.\n",
        "# This prints the count of dead neurons for each hidden layer in the MLP based on the provided batch.\n",
        "for layers in dead_neurons:\n",
        "    print(np.sum(layers))"
      ],
      "metadata": {
        "colab": {
          "base_uri": "https://localhost:8080/"
        },
        "id": "boatfT-EoWlE",
        "outputId": "8f1a068d-d61b-4f74-d9a3-990b812f49e8"
      },
      "execution_count": 30,
      "outputs": [
        {
          "output_type": "stream",
          "name": "stdout",
          "text": [
            "0\n",
            "6\n"
          ]
        }
      ]
    },
    {
      "cell_type": "markdown",
      "source": [
        "Detecting dead neurons is crucial for diagnosing issues during the training of deep neural networks:\n",
        "\n",
        "1. **Poor Initialization**: If initialization is bad, many inputs to ReLU can be pushed into the negative region immediately.\n",
        "2. **High Learning Rate**: Using a learning rate that is too high can cause large weight updates that push the weighted $sum(z)$ deep into the negative regime, permanently *\"killing\"* the neuron.\n",
        "3. **Low Capacity**: If the network is struggling to learn, some neurons may be redundant and consistently turn off."
      ],
      "metadata": {
        "id": "uGQUUX3PrL1e"
      }
    },
    {
      "cell_type": "code",
      "source": [],
      "metadata": {
        "id": "DzYMOINmq5gG"
      },
      "execution_count": null,
      "outputs": []
    }
  ]
}